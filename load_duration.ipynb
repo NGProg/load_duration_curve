{
  "nbformat": 4,
  "nbformat_minor": 0,
  "metadata": {
    "colab": {
      "name": "load_duration.ipynb",
      "provenance": [],
      "mount_file_id": "1tP0ytU008M444dGsWAzl9sSU5ad8par1",
      "authorship_tag": "ABX9TyPzCafarWuXYkiSv1NTnRIC",
      "include_colab_link": true
    },
    "kernelspec": {
      "name": "python3",
      "display_name": "Python 3"
    },
    "language_info": {
      "name": "python"
    }
  },
  "cells": [
    {
      "cell_type": "markdown",
      "metadata": {
        "id": "view-in-github",
        "colab_type": "text"
      },
      "source": [
        "<a href=\"https://colab.research.google.com/github/NGProg/load_duration_curve/blob/main/load_duration.ipynb\" target=\"_parent\"><img src=\"https://colab.research.google.com/assets/colab-badge.svg\" alt=\"Open In Colab\"/></a>"
      ]
    },
    {
      "cell_type": "markdown",
      "metadata": {
        "id": "wnxO3rK9fo3y"
      },
      "source": [
        "# Plotting a Load-Duration Curve Using Python"
      ]
    },
    {
      "cell_type": "code",
      "metadata": {
        "id": "nHJHfGc6NbUw"
      },
      "source": [
        "#load the required modules\n",
        "import numpy\n",
        "import matplotlib.pyplot as plt\n",
        "import pandas as pd\n",
        "import seaborn as sb"
      ],
      "execution_count": null,
      "outputs": []
    },
    {
      "cell_type": "code",
      "metadata": {
        "colab": {
          "base_uri": "https://localhost:8080/"
        },
        "id": "ezsrm5fjTSjL",
        "outputId": "b082ca62-597e-478e-cd2b-e9ef1505507b"
      },
      "source": [
        "# initialise a dictionary with the load data.\n",
        "load_data = {'Hour':[0, 1, 2, 3, 4, 5, 6, 7, 8, 9, 10, 11, 12, 13, 14, 15, 16, 17, 18, 19, 20, 21, 22, 23], \n",
        "        'Load':[39.0, 39.2, 37.6, 36.8, 36.4, 36.2, 37.4, 41.4, 45.6, 48.8, 53.0, 53.6, 53.2, 54.0, 53.8, 52.8, 50.8, 44.4, 46.8, 47.4, 46.4, 44.0, 42.4, 40.6]\n",
        "        }\n",
        "print(load_data)"
      ],
      "execution_count": null,
      "outputs": [
        {
          "output_type": "stream",
          "name": "stdout",
          "text": [
            "{'Hour': [0, 1, 2, 3, 4, 5, 6, 7, 8, 9, 10, 11, 12, 13, 14, 15, 16, 17, 18, 19, 20, 21, 22, 23], 'Load': [39.0, 39.2, 37.6, 36.8, 36.4, 36.2, 37.4, 41.4, 45.6, 48.8, 53.0, 53.6, 53.2, 54.0, 53.8, 52.8, 50.8, 44.4, 46.8, 47.4, 46.4, 44.0, 42.4, 40.6]}\n"
          ]
        }
      ]
    },
    {
      "cell_type": "code",
      "metadata": {
        "colab": {
          "base_uri": "https://localhost:8080/"
        },
        "id": "8U6AUq3GFIj1",
        "outputId": "f553b2fa-6869-47f6-a088-5d0e1b51d094"
      },
      "source": [
        "# Convert dictionary to DataFrame and print it\n",
        "load_df = pd.DataFrame(load_data)\n",
        "print(load_df)"
      ],
      "execution_count": null,
      "outputs": [
        {
          "output_type": "stream",
          "name": "stdout",
          "text": [
            "    Hour  Load\n",
            "0      0  39.0\n",
            "1      1  39.2\n",
            "2      2  37.6\n",
            "3      3  36.8\n",
            "4      4  36.4\n",
            "5      5  36.2\n",
            "6      6  37.4\n",
            "7      7  41.4\n",
            "8      8  45.6\n",
            "9      9  48.8\n",
            "10    10  53.0\n",
            "11    11  53.6\n",
            "12    12  53.2\n",
            "13    13  54.0\n",
            "14    14  53.8\n",
            "15    15  52.8\n",
            "16    16  50.8\n",
            "17    17  44.4\n",
            "18    18  46.8\n",
            "19    19  47.4\n",
            "20    20  46.4\n",
            "21    21  44.0\n",
            "22    22  42.4\n",
            "23    23  40.6\n"
          ]
        }
      ]
    },
    {
      "cell_type": "code",
      "metadata": {
        "id": "KHY7kv7wV5Lq",
        "colab": {
          "base_uri": "https://localhost:8080/",
          "height": 483
        },
        "outputId": "030dab48-2c59-4f98-89fa-cb33d58ef638"
      },
      "source": [
        "#Plot the load profile\n",
        "sb.set(rc={\"figure.figsize\":(10, 7)})\n",
        "p = sb.lineplot(x = \"Hour\", y = \"Load\", data = load_df)\n",
        "plt.ylim(0, None)\n",
        "plt.xlim(0, None)\n",
        "p.set_title(\"Load Profile\", fontsize = 30)\n",
        "p.set_xlabel(\"Time (Hrs)\", fontsize = 20)\n",
        "p.set_ylabel(\"Load (MW)\", fontsize = 20)\n",
        "plt.show()"
      ],
      "execution_count": null,
      "outputs": [
        {
          "output_type": "display_data",
          "data": {
            "image/png": "[encoded data removed]",
            "text/plain": [
              "<Figure size 720x504 with 1 Axes>"
            ]
          },
          "metadata": {}
        }
      ]
    },
    {
      "cell_type": "code",
      "metadata": {
        "colab": {
          "base_uri": "https://localhost:8080/"
        },
        "id": "dLmgxv9gjBL8",
        "outputId": "c55a6902-1528-41d6-9236-96e2480d9441"
      },
      "source": [
        "#Add a column for the time interval for which the loads were recorded\n",
        "load_df['interval'] = 1\n",
        "print(load_df)"
      ],
      "execution_count": null,
      "outputs": [
        {
          "output_type": "stream",
          "name": "stdout",
          "text": [
            "    Hour  Load  interval\n",
            "0      0  39.0         1\n",
            "1      1  39.2         1\n",
            "2      2  37.6         1\n",
            "3      3  36.8         1\n",
            "4      4  36.4         1\n",
            "5      5  36.2         1\n",
            "6      6  37.4         1\n",
            "7      7  41.4         1\n",
            "8      8  45.6         1\n",
            "9      9  48.8         1\n",
            "10    10  53.0         1\n",
            "11    11  53.6         1\n",
            "12    12  53.2         1\n",
            "13    13  54.0         1\n",
            "14    14  53.8         1\n",
            "15    15  52.8         1\n",
            "16    16  50.8         1\n",
            "17    17  44.4         1\n",
            "18    18  46.8         1\n",
            "19    19  47.4         1\n",
            "20    20  46.4         1\n",
            "21    21  44.0         1\n",
            "22    22  42.4         1\n",
            "23    23  40.6         1\n"
          ]
        }
      ]
    },
    {
      "cell_type": "code",
      "metadata": {
        "colab": {
          "base_uri": "https://localhost:8080/"
        },
        "id": "HyXcP7mH09Gt",
        "outputId": "efa08af0-81fe-4583-a3a5-f78a96688297"
      },
      "source": [
        "\n",
        "#Sort the DataFrame by the loads, in descending order of magnitude\n",
        "load_df_sorted = load_df.sort_values(by=['Load'], ascending = False)\n",
        "print(load_df_sorted) "
      ],
      "execution_count": null,
      "outputs": [
        {
          "output_type": "stream",
          "name": "stdout",
          "text": [
            "    Hour  Load  interval\n",
            "13    13  54.0         1\n",
            "14    14  53.8         1\n",
            "11    11  53.6         1\n",
            "12    12  53.2         1\n",
            "10    10  53.0         1\n",
            "15    15  52.8         1\n",
            "16    16  50.8         1\n",
            "9      9  48.8         1\n",
            "19    19  47.4         1\n",
            "18    18  46.8         1\n",
            "20    20  46.4         1\n",
            "8      8  45.6         1\n",
            "17    17  44.4         1\n",
            "21    21  44.0         1\n",
            "22    22  42.4         1\n",
            "7      7  41.4         1\n",
            "23    23  40.6         1\n",
            "1      1  39.2         1\n",
            "0      0  39.0         1\n",
            "2      2  37.6         1\n",
            "6      6  37.4         1\n",
            "3      3  36.8         1\n",
            "4      4  36.4         1\n",
            "5      5  36.2         1\n"
          ]
        }
      ]
    },
    {
      "cell_type": "code",
      "metadata": {
        "colab": {
          "base_uri": "https://localhost:8080/"
        },
        "id": "th-3D5zN7xWe",
        "outputId": "6a042930-1582-4ad8-a612-be22bf2f5576"
      },
      "source": [
        "#Use the cumsum() function to to add a column with the duration for which the system load is greater than or equal to each load\n",
        "load_df_sorted['duration'] = load_df_sorted['interval'].cumsum()\n",
        "print(load_df_sorted)"
      ],
      "execution_count": null,
      "outputs": [
        {
          "output_type": "stream",
          "name": "stdout",
          "text": [
            "    Hour  Load  interval  duration\n",
            "13    13  54.0         1         1\n",
            "14    14  53.8         1         2\n",
            "11    11  53.6         1         3\n",
            "12    12  53.2         1         4\n",
            "10    10  53.0         1         5\n",
            "15    15  52.8         1         6\n",
            "16    16  50.8         1         7\n",
            "9      9  48.8         1         8\n",
            "19    19  47.4         1         9\n",
            "18    18  46.8         1        10\n",
            "20    20  46.4         1        11\n",
            "8      8  45.6         1        12\n",
            "17    17  44.4         1        13\n",
            "21    21  44.0         1        14\n",
            "22    22  42.4         1        15\n",
            "7      7  41.4         1        16\n",
            "23    23  40.6         1        17\n",
            "1      1  39.2         1        18\n",
            "0      0  39.0         1        19\n",
            "2      2  37.6         1        20\n",
            "6      6  37.4         1        21\n",
            "3      3  36.8         1        22\n",
            "4      4  36.4         1        23\n",
            "5      5  36.2         1        24\n"
          ]
        }
      ]
    },
    {
      "cell_type": "code",
      "metadata": {
        "colab": {
          "base_uri": "https://localhost:8080/"
        },
        "id": "eARfr5MNDxCW",
        "outputId": "fdf2c621-9c78-4b82-b901-830934e9f999"
      },
      "source": [
        "#Calculate the percentage of time for which the system load is greater than or equal to each load\n",
        "load_df_sorted['percentage'] = load_df_sorted['duration']*100/24\n",
        "print(load_df_sorted)"
      ],
      "execution_count": null,
      "outputs": [
        {
          "output_type": "stream",
          "name": "stdout",
          "text": [
            "    Hour  Load  interval  duration  percentage\n",
            "13    13  54.0         1         1    4.166667\n",
            "14    14  53.8         1         2    8.333333\n",
            "11    11  53.6         1         3   12.500000\n",
            "12    12  53.2         1         4   16.666667\n",
            "10    10  53.0         1         5   20.833333\n",
            "15    15  52.8         1         6   25.000000\n",
            "16    16  50.8         1         7   29.166667\n",
            "9      9  48.8         1         8   33.333333\n",
            "19    19  47.4         1         9   37.500000\n",
            "18    18  46.8         1        10   41.666667\n",
            "20    20  46.4         1        11   45.833333\n",
            "8      8  45.6         1        12   50.000000\n",
            "17    17  44.4         1        13   54.166667\n",
            "21    21  44.0         1        14   58.333333\n",
            "22    22  42.4         1        15   62.500000\n",
            "7      7  41.4         1        16   66.666667\n",
            "23    23  40.6         1        17   70.833333\n",
            "1      1  39.2         1        18   75.000000\n",
            "0      0  39.0         1        19   79.166667\n",
            "2      2  37.6         1        20   83.333333\n",
            "6      6  37.4         1        21   87.500000\n",
            "3      3  36.8         1        22   91.666667\n",
            "4      4  36.4         1        23   95.833333\n",
            "5      5  36.2         1        24  100.000000\n"
          ]
        }
      ]
    },
    {
      "cell_type": "code",
      "metadata": {
        "colab": {
          "base_uri": "https://localhost:8080/",
          "height": 483
        },
        "id": "cOVfonN4EOvU",
        "outputId": "f78fe7ac-7687-4b82-d1e7-21c301b82726"
      },
      "source": [
        "#Plot the load_duration curve (Load vs Percentage of time)\n",
        "p = sb.lineplot(x = \"percentage\", y = \"Load\", data = load_df_sorted)\n",
        "plt.ylim(0, None)\n",
        "plt.xlim(0, None)\n",
        "p.set_title(\"Load-Duration Curve\", fontsize = 30)\n",
        "p.set_xlabel(\"Time (%)\", fontsize = 20)\n",
        "p.set_ylabel(\"Load (MW)\", fontsize = 20)\n",
        "plt.show()"
      ],
      "execution_count": null,
      "outputs": [
        {
          "output_type": "display_data",
          "data": {
            "image/png": "[encoded data removed]",
            "text/plain": [
              "<Figure size 720x504 with 1 Axes>"
            ]
          },
          "metadata": {}
        }
      ]
    }
  ]
}